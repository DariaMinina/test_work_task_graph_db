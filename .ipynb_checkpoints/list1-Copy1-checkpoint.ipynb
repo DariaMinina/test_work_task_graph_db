{
 "cells": [
  {
   "cell_type": "markdown",
   "id": "eb97b0bd",
   "metadata": {},
   "source": [
    "# Тестовое задание по графовым базам данных от MindSet\n",
    "\n",
    "**Выполнила:** Дарья Минина\n",
    "\n",
    "**Telegram:** @daschok_770\n",
    "\n",
    "1. [x] Установить 2 графовые базы из списка DB-Engines Ranking\n",
    "2. [x] Предпочтительные - neo4j, nebula, arangodb\n",
    "3. [x] Предпочтительный язык запросов cypher\n",
    "4. [x] Создать ipynb ноутбук в котором:\n",
    "- [x]  Считать данные из источника Yandex\n",
    "- [x] Внести данные из таблицы в графовую БД\n",
    "7. [x] Построить графовое представление в БД, осуществить несколько запросов на языке запросов к графовой БД\n",
    "8. [x] Найти взаимосвязи визуально и с помощью алгоритмов (алгоритмы на ваше усмотрение)\n",
    "9. [ ] Написать rest сервис на python к графовой БД в котором на вход поступает ФИО, на выходе graphml или json\n",
    "10. [ ] Результаты представить на гитхаб и в виде кода + небольшой презентации\n",
    "11. [ ] Прислать ссылку на решение и резюме в телеграм @frankshikhaliev\n",
    "12. [ ] Также надо будет заполнить форму\n",
    "13. [ ] Срок выполнения задания - около 10 дней, если вы не успеваете можете взять больше времени"
   ]
  },
  {
   "cell_type": "markdown",
   "id": "d591f286",
   "metadata": {},
   "source": [
    "## NEO4j"
   ]
  },
  {
   "cell_type": "markdown",
   "id": "2bb5474e",
   "metadata": {},
   "source": [
    "**Работаем с Neo4j Desktop**"
   ]
  },
  {
   "cell_type": "markdown",
   "id": "9ddaba0f",
   "metadata": {},
   "source": [
    "- Считываем данные из источника Yandex, предварительно скачав файл на локальный носитель."
   ]
  },
  {
   "cell_type": "markdown",
   "id": "8e325677",
   "metadata": {},
   "source": [
    "Для начала выделим узлы под события:"
   ]
  },
  {
   "cell_type": "markdown",
   "id": "4c90200c",
   "metadata": {},
   "source": [
    "```\n",
    "LOAD CSV WITH HEADERS FROM 'file:///data_test_com.csv' AS row\n",
    "WITH row WHERE row.`id события` IS NOT NULL\n",
    "MERGE (c:Event {eventId: row.`id события`});\n",
    "```"
   ]
  },
  {
   "cell_type": "markdown",
   "id": "b4b53c72",
   "metadata": {},
   "source": [
    "Создадим ограничение на то, чтобы имя участника события было уникальным:"
   ]
  },
  {
   "cell_type": "markdown",
   "id": "129a1c19",
   "metadata": {},
   "source": [
    "```\n",
    "CREATE CONSTRAINT participant_name FOR (p:Participant) REQUIRE p.name IS UNIQUE\n",
    "```"
   ]
  },
  {
   "cell_type": "markdown",
   "id": "7aa98065",
   "metadata": {},
   "source": [
    "Каждый участник события БЫЛ на мероприятии, значит, наложим такую связь между узлом с лейблом `Event` и узлом с лейблом `Patricipant`\n",
    "Выделим узлы под участников события и создадим связь:"
   ]
  },
  {
   "cell_type": "markdown",
   "id": "5eb7447f",
   "metadata": {},
   "source": [
    "```\n",
    "LOAD CSV WITH HEADERS FROM 'file:///data_test_com.csv' AS row\n",
    "MATCH (e:Event {eventId : row.`id события`})\n",
    "MERGE (p:Participant {name: row.`ФИО участника события 1`})\n",
    "CREATE (p) -[:HAS_BEEN]-> (e)\n",
    "```"
   ]
  },
  {
   "cell_type": "markdown",
   "id": "5ad0627f",
   "metadata": {},
   "source": [
    "```\n",
    "LOAD CSV WITH HEADERS FROM 'file:///data_test_com.csv' AS row\n",
    "MATCH (e:Event {eventId : row.`id события`})\n",
    "MERGE (p:Participant {name: row.`ФИО участника события 2`})\n",
    "CREATE (p) -[:HAS_BEEN]-> (e)\n",
    "```"
   ]
  },
  {
   "cell_type": "markdown",
   "id": "6486ada3",
   "metadata": {},
   "source": [
    "Создадим связь между двумя людьми, которые ходили на одно событие:"
   ]
  },
  {
   "cell_type": "markdown",
   "id": "729f3ce1",
   "metadata": {},
   "source": [
    "```\n",
    "LOAD CSV WITH HEADERS FROM 'file:///data_test_com.csv' AS row\n",
    "MATCH (p1:Participant {name: row.`ФИО участника события 1`})\n",
    "MATCH (p2:Participant {name: row.`ФИО участника события 2`})\n",
    "CREATE (p1) -[:WITH]-> (p2)\n",
    "```"
   ]
  },
  {
   "cell_type": "markdown",
   "id": "6efc87b4",
   "metadata": {},
   "source": [
    "В БД только 15 событий, в которых участвовало 4 человека (в остальных 2). Выведем эти события и этих людей:"
   ]
  },
  {
   "cell_type": "markdown",
   "id": "b4e3eab8",
   "metadata": {},
   "source": [
    "```\n",
    "MATCH (n:Participant) - [r:HAS_BEEN] -> (e:Event)\n",
    "RETURN e, COLLECT(n) as p\n",
    "ORDER BY SIZE(p) DESC LIMIT 15\n",
    "```"
   ]
  },
  {
   "cell_type": "markdown",
   "id": "8cb26c90",
   "metadata": {},
   "source": [
    "![Граф](graph.png)"
   ]
  },
  {
   "cell_type": "markdown",
   "id": "ded9365d",
   "metadata": {},
   "source": [
    "Найдем самого \"популярного\" человека из первого столбца и из второго столбца."
   ]
  },
  {
   "cell_type": "markdown",
   "id": "067e31fe",
   "metadata": {},
   "source": [
    "Из первого столбца:"
   ]
  },
  {
   "cell_type": "markdown",
   "id": "776dfb78",
   "metadata": {},
   "source": [
    "```\n",
    "MATCH (p1:Participant) - [r:WITH] -> (p2:Participant)\n",
    "RETURN p1, COLLECT(p2) as p\n",
    "ORDER BY SIZE(p) DESC LIMIT 5\n",
    "```"
   ]
  },
  {
   "cell_type": "markdown",
   "id": "854ec9b5",
   "metadata": {},
   "source": [
    "![Граф](anna.png)"
   ]
  },
  {
   "cell_type": "markdown",
   "id": "19713189",
   "metadata": {},
   "source": [
    "ТОП-5:\n",
    "1. Ахромеева Алина Ивановна - 49 человек\n",
    "2. Башнина Антонина Глебовна - 14 человек\n",
    "3. Диомидов Игорь Ильдарович - 5 человек\n",
    "4. Зимнухова Карина Даниловна - 4 человека\n",
    "5. Шолохов Игорь Робертович - 2 человека"
   ]
  },
  {
   "cell_type": "markdown",
   "id": "2ea68796",
   "metadata": {},
   "source": [
    "Из второго столбца:"
   ]
  },
  {
   "cell_type": "markdown",
   "id": "65b4c3cf",
   "metadata": {},
   "source": [
    "```\n",
    "MATCH (p1:Participant) - [r:WITH] -> (p2:Participant)\n",
    "RETURN p2, COLLECT(p1) as p\n",
    "ORDER BY SIZE(p) DESC LIMIT 5\n",
    "```"
   ]
  },
  {
   "cell_type": "markdown",
   "id": "7822b7cf",
   "metadata": {},
   "source": [
    "![Граф](daria.png)"
   ]
  },
  {
   "cell_type": "markdown",
   "id": "96465e00",
   "metadata": {},
   "source": [
    "ТОП-5:\n",
    "1. Медведева Дарья Алексеевна - 5 человек\n",
    "2. Шолохов Игорь Робертович - 2 человекa\n",
    "3. Двигубская Валентина Геннадьевна - 2 человекa\n",
    "4. Чемодуров Дамир Русланович - 1 человек\n",
    "5. Щербатенко Ольга Робертовна - 1 человек"
   ]
  },
  {
   "cell_type": "code",
   "execution_count": null,
   "id": "827a6db6",
   "metadata": {},
   "outputs": [],
   "source": []
  }
 ],
 "metadata": {
  "kernelspec": {
   "display_name": "Python 3 (ipykernel)",
   "language": "python",
   "name": "python3"
  },
  "language_info": {
   "codemirror_mode": {
    "name": "ipython",
    "version": 3
   },
   "file_extension": ".py",
   "mimetype": "text/x-python",
   "name": "python",
   "nbconvert_exporter": "python",
   "pygments_lexer": "ipython3",
   "version": "3.9.13"
  }
 },
 "nbformat": 4,
 "nbformat_minor": 5
}
