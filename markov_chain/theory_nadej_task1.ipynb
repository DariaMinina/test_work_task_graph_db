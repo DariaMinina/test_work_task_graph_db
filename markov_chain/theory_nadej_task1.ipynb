{
 "cells": [
  {
   "cell_type": "markdown",
   "id": "09703c43",
   "metadata": {},
   "source": [
    "# Задание 1"
   ]
  },
  {
   "cell_type": "markdown",
   "id": "a8a57bd3",
   "metadata": {},
   "source": [
    "Система состоит из устройств типа A и типа B, интенсивности отказов $\\lambda_A$ и $\\lambda_B$ известны. Для функционирования системы требуется хотя бы одно устройство типа A и хотя бы $N_B$ устройств типа B. Общее число устройств в системе (включая резервные) – $R_A$ и $R_A$ соответственно, причём в нормальном состоянии одновременно включены сразу $N_A$ устройств типа A.\n",
    "\n",
    "Если N – номер зачётной книжки, а G – последняя цифра в номере группы, то параметры системы определяются следующим образом: \n",
    "\n",
    "N = 123, G = 1\n",
    "\n",
    "$\\lambda_A$ = G + (N mod 3) = 1 + 0 = 1\n",
    "\n",
    "$\\lambda_B$ = G + (N mod 5) = 1 + 3 = 4\n",
    "\n",
    "$N_A$ = 2 + (G mod 2) = 2 + 0 = 2\n",
    "\n",
    "$N_B$ = 2 + (N mod 2) = 2 + 1 = 3\n",
    "\n",
    "$R_A$ = 4 + (G mod 2) = 4 + 0 = 4\n",
    "\n",
    "$R_B$ = 5 – (G mod 2) = 5 \n",
    "\n",
    "Требуется:\n",
    "1. [x] нарисовать граф состояний системы;\n",
    "2. [x] составить матрицу интенсивностей переходов;\n",
    "3. [x] записать дифференциальные уравнения Колмогорова;\n",
    "4. [x] аналитически решить полученную систему уравнений, исходя из того, что в начальный момент времени все устройства исправны;\n",
    "5. [x] построить графики вероятностей нахождения системы в каждом из возможных состояний с течением времени;\n",
    "6. [x] построить график функции надёжности системы;\n",
    "7. [x] рассчитать математическое ожидание времени безотказной работы;\n",
    "8. [x] провести имитационное моделирование системы в терминах непрерывных марковских цепей 100 раз, рассчитать среднее выборочное значение и стандартное отклонение времени безотказной работы системы.\n"
   ]
  },
  {
   "cell_type": "code",
   "execution_count": 1,
   "id": "895c7ad4",
   "metadata": {},
   "outputs": [],
   "source": [
    "# Подключение библиотек\n",
    "\n",
    "import numpy as np\n",
    "import seaborn as sb\n",
    "import csv\n",
    "import pandas as pd\n",
    "import random\n",
    "import matplotlib.pyplot as plt\n",
    "from sympy import symbols, dsolve, Function, Eq, integrate, oo"
   ]
  },
  {
   "cell_type": "markdown",
   "id": "54d55f30",
   "metadata": {},
   "source": [
    "# 1. Граф состояний системы\n",
    "\n",
    "$S^{ij}_k$ - состояние в графе, \n",
    "\n",
    "$i$ - исправно работающие устройства типа A, \n",
    "\n",
    "$j$ - резервные устройства типа A, \n",
    "\n",
    "$k$ -  исправно работающие устройства типа B.\n",
    "\n",
    "Строим граф состояний системы как для СМО."
   ]
  },
  {
   "cell_type": "markdown",
   "id": "3c38cbc5",
   "metadata": {},
   "source": [
    "![gr](src/smo.png)"
   ]
  },
  {
   "cell_type": "markdown",
   "id": "e68b0714",
   "metadata": {},
   "source": [
    "# 2. Матрица состояний переходов"
   ]
  },
  {
   "cell_type": "markdown",
   "id": "47c2660f",
   "metadata": {},
   "source": [
    "Второй этап — составление матрицы интенсивностей переходов ($Q$). Она представляет собой квадратную матрицу размерностью n x n, где n – число вершин в графе состояний марковской системы. Матрица составляется по следующему алгоритму. Выбирается одно состояние (номер этого состояния ($i$) будет соответствовать номеру строки в матрице). Затем следует определить сумму выходящих потоков, т.е. сумму весов всех выходящих из $i$-ой вершины дуг. Эта величина записывается в ячейку $Q(i,i)$. Затем следует проанализировать все дуги, входящие $i$-ую в вершину. Если дуга входит в $i$-ую в вершину из вершины $j$, то вес дуги записывается в ячейку матрица $Q(i,j)$.\n",
    "\n",
    "Диагональные элементы матрицы состояний переходов определяются из условия:\n",
    "$\\sum^n_{j = 1}q_{ij} = 0$, откуда $q_{ii} = -\\sum^n_{j = 1, i \\neq j}q_{ij}$.\n",
    "\n",
    "$\\lambda_1 = 2\\lambda_A + 5\\lambda_B = 22$\n",
    "\n",
    "$\\lambda_2 = 2\\lambda_A + 4\\lambda_B = 18$\n",
    "\n",
    "$\\lambda_3 = 2\\lambda_A + 3\\lambda_B = 14$\n",
    "\n",
    "$\\lambda_4 = \\lambda_A + 5\\lambda_B = 21$\n",
    "\n",
    "$\\lambda_5 = \\lambda_A + 4\\lambda_B = 17$\n",
    "\n",
    "$\\lambda_6 = \\lambda_A + 3\\lambda_B = 13$\n",
    "\n",
    "$\\lambda_A = 1$\n",
    "\n",
    "$\\lambda_B = 4$\n",
    "\n",
    "\n",
    "$ Q = \\begin{bmatrix}\n",
    "-\\lambda_1&2\\lambda_A&5\\lambda_B&0&0&0&0&0&0&0&0&0&0&0&0&0&0&0&0  \\\\\n",
    "0&-\\lambda_1&0&2\\lambda_A&5\\lambda_B&0&0&0&0&0&0&0&0&0&0&0&0&0&0 \\\\\n",
    "0&0&-\\lambda_2&0&2\\lambda_A&4\\lambda_B&0&0&0&0&0&0&0&0&0&0&0&0&0 \\\\\n",
    "0&0&0&-\\lambda_1&0&0&2\\lambda_A&5\\lambda_B&0&0&0&0&0&0&0&0&0&0&0 \\\\\n",
    "0&0&0&0&-\\lambda_2&0&0&2\\lambda_A&4\\lambda_B&0&0&0&0&0&0&0&0&0&0 \\\\\n",
    "0&0&0&0&0&-\\lambda_3&0&0&2\\lambda_A&3\\lambda_B&0&0&0&0&0&0&0&0&0 \\\\\n",
    "0&0&0&0&0&0&-\\lambda_4&0&0&0&\\lambda_A&5\\lambda_B&0&0&0&0&0&0&0 \\\\\n",
    "0&0&0&0&0&0&0&-\\lambda_2&0&0&0&2\\lambda_A&4\\lambda_B&0&0&0&0&0&0 \\\\\n",
    "0&0&0&0&0&0&0&0&-\\lambda_3&0&0&0&2\\lambda_A&3\\lambda_B&0&0&0&0&0 \\\\\n",
    "0&0&0&0&0&0&0&0&0&0&0&0&0&0&0&0&0&0&0 \\\\\n",
    "0&0&0&0&0&0&0&0&0&0&0&0&0&0&0&0&0&0&0 \\\\\n",
    "0&0&0&0&0&0&0&0&0&0&0&-\\lambda_5&0&0&\\lambda_A&4\\lambda_B&0&0&0 \\\\\n",
    "0&0&0&0&0&0&0&0&0&0&0&0&-\\lambda_3&0&0&2\\lambda_A&3\\lambda_B&0&0 \\\\\n",
    "0&0&0&0&0&0&0&0&0&0&0&0&0&0&0&0&0&0&0 \\\\\n",
    "0&0&0&0&0&0&0&0&0&0&0&0&0&0&0&0&0&0&0 \\\\\n",
    "0&0&0&0&0&0&0&0&0&0&0&0&0&0&0&-\\lambda_6&0&\\lambda_A&3\\lambda_B \\\\\n",
    "0&0&0&0&0&0&0&0&0&0&0&0&0&0&0&0&0&0&0 \\\\\n",
    "0&0&0&0&0&0&0&0&0&0&0&0&0&0&0&0&0&0&0 \\\\\n",
    "0&0&0&0&0&0&0&0&0&0&0&0&0&0&0&0&0&0&0 \n",
    "\\end{bmatrix} $"
   ]
  },
  {
   "cell_type": "markdown",
   "id": "3fea3074",
   "metadata": {},
   "source": [
    "# 3. Дифференциальные уравнения Колмогорова"
   ]
  },
  {
   "cell_type": "markdown",
   "id": "7576e2af",
   "metadata": {},
   "source": [
    "Система $P' = Q^TP$"
   ]
  },
  {
   "cell_type": "markdown",
   "id": "0fd9a7ee",
   "metadata": {},
   "source": [
    "Ссылка для понимания: https://www.hse.ru/mirror/pubs/share/182481937 , https://books.ifmo.ru/file/pdf/471.pdf\n",
    "\n",
    "Система дифференциальных уравнений марковского случайного процесса, которая при заданных начальных условиях $P = \\{p_1(0),..., p_n(0)\\}$ позволяет выполнить исследование нестационарного (переходного) режима работы моделируемой системы путем расчета вероятностей состояний марковского процесса в произвольный момент времени $t > 0$:\n",
    "\n",
    "$\\frac{dp_j(t)}{dt} = \\sum^n_{i = 1}p_i(t)q_{ij}, (j = 1, n)$\n",
    "\n",
    "$\\frac{dp_1}{dt} = -\\lambda_1p_1$\n",
    "\n",
    "$\\frac{dp_2}{dt} = -\\lambda_1p_2 + 2\\lambda_Ap_1$\n",
    "\n",
    "$\\frac{dp_3}{dt} = -\\lambda_2p_3 + 5\\lambda_Bp_1$\n",
    "\n",
    "$\\frac{dp_4}{dt} = -\\lambda_1p_4 + 2\\lambda_Ap_2$\n",
    "\n",
    "$\\frac{dp_5}{dt} = -\\lambda_2p_5 + 5\\lambda_Bp_2 + 2\\lambda_Ap_3$\n",
    "\n",
    "$\\frac{dp_6}{dt} = -\\lambda_3p_6 + 4\\lambda_Bp_3$\n",
    "\n",
    "$\\frac{dp_7}{dt} = -\\lambda_4p_7 + 2\\lambda_Ap_4$\n",
    "\n",
    "$\\frac{dp_8}{dt} = -\\lambda_2p_8 + 5\\lambda_Bp_4 + 2\\lambda_Ap_5$\n",
    "\n",
    "$\\frac{dp_9}{dt} = -\\lambda_3p_9 + 4\\lambda_Bp_5 + 2\\lambda_Ap_6$\n",
    "\n",
    "$\\frac{dp_{10}}{dt} = 3\\lambda_Bp_6$\n",
    "\n",
    "$\\frac{dp_{11}}{dt} = \\lambda_Ap_7$\n",
    "\n",
    "$\\frac{dp_{12}}{dt} = -\\lambda_5p_{12} + 5\\lambda_Bp_7 + 2\\lambda_Ap_8$\n",
    "\n",
    "$\\frac{dp_{13}}{dt} = -\\lambda_3p_{13} + 4\\lambda_Bp_8 + 2\\lambda_Ap_9$\n",
    "\n",
    "$\\frac{dp_{14}}{dt} = 3\\lambda_Bp_{9}$\n",
    "\n",
    "$\\frac{dp_{15}}{dt} = \\lambda_Ap_{12}$\n",
    "\n",
    "$\\frac{dp_{16}}{dt} = -\\lambda_6p_{16} + 4\\lambda_Bp_{12} + 2\\lambda_Ap_{13}$\n",
    "\n",
    "$\\frac{dp_{17}}{dt} = 3\\lambda_Bp_{13}$\n",
    "\n",
    "$\\frac{dp_{18}}{dt} = \\lambda_Ap_{16}$\n",
    "\n",
    "$\\frac{dp_{19}}{dt} = 3\\lambda_Bp_{16}$\n"
   ]
  },
  {
   "cell_type": "markdown",
   "id": "d6659f0e",
   "metadata": {},
   "source": [
    "# 4. Аналитическое решение системы дифференциальных уравнений"
   ]
  },
  {
   "cell_type": "markdown",
   "id": "21ddbb30",
   "metadata": {},
   "source": [
    "Аналитически решить полученную систему уравнений, исходя из того, что в начальный момент времени все устройства исправны, то есть $p_1 = 1$, а все остальные вероятности равны нулю.\n",
    "\n",
    "![gr1](src/IMG_4675.jpg)\n",
    "\n",
    "![gr2](src/IMG_4676.jpg)"
   ]
  },
  {
   "cell_type": "code",
   "execution_count": 2,
   "id": "a2a85b37",
   "metadata": {},
   "outputs": [],
   "source": [
    "l1 = 22\n",
    "l2 = 18\n",
    "l3 = 14\n",
    "l4 = 21\n",
    "l5 = 17\n",
    "l6 = 13\n",
    "\n",
    "la = 1\n",
    "lb = 4\n",
    "\n",
    "\n",
    "# Аналитическое решение системы ДУ с помощью SymPy\n",
    "t = symbols('t')\n",
    "p0, p1, p2, p3, p4, p5, p6, p7, p8, p9, p10, p11, p12, p13, p14, p15, p16, p17, p18 = symbols('p0 p1 p2 p3 p4 p5 p6 p7 p8 p9 p10 p11 p12 p13 p14 p15 p16 p17 p18', cls=Function)\n",
    "eqs = [Eq(p0(t).diff(t) + l1*p0(t), 0),\n",
    "       Eq(p1(t).diff(t) + l1*p1(t), 2*la*p0(t)),\n",
    "       Eq(p2(t).diff(t) + l2*p2(t), 5*lb*p0(t)),\n",
    "       Eq(p3(t).diff(t) + l1*p3(t), 2*la*p1(t)),\n",
    "       Eq(p4(t).diff(t) + l2*p4(t), 5*lb*p1(t) + 2*la*p2(t)),\n",
    "       Eq(p5(t).diff(t) + l3*p5(t), 4*lb*p2(t)),\n",
    "       Eq(p6(t).diff(t) + l4*p6(t), 2*la*p3(t)),\n",
    "       Eq(p7(t).diff(t) + l2*p7(t), 5*lb*p3(t) + 2*la*p4(t)),\n",
    "       Eq(p8(t).diff(t) + l3*p8(t), 4*lb*p4(t) + 2*la*p5(t)),\n",
    "       Eq(p9(t).diff(t), 3*lb*p5(t)),\n",
    "       Eq(p10(t).diff(t), la*p6(t)),\n",
    "       Eq(p11(t).diff(t) + l5*p11(t), 5*lb*p6(t) + 2*la*p7(t)),\n",
    "       Eq(p12(t).diff(t) + l3*p12(t), 4*lb*p7(t) + 2*la*p8(t)),\n",
    "       Eq(p13(t).diff(t), 3*lb*p8(t)),\n",
    "       Eq(p14(t).diff(t), la*p11(t)),\n",
    "       Eq(p15(t).diff(t) + l6*p15(t), 4*lb*p11(t) + 2*la*p12(t)),\n",
    "       Eq(p16(t).diff(t), 3*lb*p12(t)),\n",
    "       Eq(p17(t).diff(t), la*p15(t)),\n",
    "       Eq(p18(t).diff(t), 3*lb*p15(t))]\n",
    "\n",
    "# Начальное распределение вероятностей\n",
    "ics = {p0(0): 1, p1(0): 0, p2(0): 0, p3(0): 0, p4(0): 0, p5(0): 0, p6(0): 0, p7(0): 0, p8(0): 0, p9(0): 0, p10(0): 0, p11(0): 0, p12(0): 0, p13(0): 0, p14(0): 0, p15(0): 0, p16(0): 0, p17(0): 0, p18(0): 0}\n",
    "\n",
    "\n",
    "solutions = dsolve(eqs, [p0(t), p1(t), p2(t), p3(t), p4(t), p5(t), p6(t), p7(t), p8(t), p9(t), p10(t), p11(t), p12(t), p13(t), p14(t), p15(t), p16(t), p17(t), p18(t)], ics=ics)"
   ]
  },
  {
   "cell_type": "markdown",
   "id": "c6bfb087",
   "metadata": {},
   "source": [
    "# 5. Графики вероятностей нахождения системы в каждом из возможных состояний с течением времени"
   ]
  },
  {
   "cell_type": "code",
   "execution_count": 3,
   "id": "b56b81b8",
   "metadata": {},
   "outputs": [
    {
     "data": {
      "image/png": "[encoded data removed]",
      "text/plain": [
       "<Figure size 640x480 with 1 Axes>"
      ]
     },
     "metadata": {},
     "output_type": "display_data"
    }
   ],
   "source": [
    "#sb.set_style(\"darkgrid\")\n",
    "\n",
    "plt.xlabel(\"Время\")\n",
    "plt.ylabel(\"Вероятность\")\n",
    "plt.title(\"График вероятности нахождения системы в одном из состояний\")\n",
    "# plt.rcParams[\"figure.figsize\"] = [20, 10]\n",
    "#plt.rcParams[\"figure.autolayout\"] = True\n",
    "\n",
    "\n",
    "\n",
    "# График вероятностей нахождения системы в каждом из возможных состояний с течением времени\n",
    "x_values = np.arange(0, 1, 0.5e-2)\n",
    "y_values = np.zeros(len(x_values))\n",
    "\n",
    "\n",
    "\n",
    "for i in range(19):\n",
    "    for j in range(len(x_values)):\n",
    "        y_values[j] = solutions[i].subs(t, x_values[j]).rhs\n",
    "    plt.plot(x_values, y_values)\n",
    "plt.legend(range(19))\n",
    "plt.grid(True)\n",
    "plt.show()"
   ]
  },
  {
   "cell_type": "markdown",
   "id": "f4e15aba",
   "metadata": {},
   "source": [
    "# 6. График функции надёжности системы"
   ]
  },
  {
   "cell_type": "markdown",
   "id": "1c49fc9e",
   "metadata": {},
   "source": [
    "Функция надежности системы определяется как:\n",
    "\n",
    "$R(t) = \\sum p_i$, где $p_i$ - вероятности, при которых система находится в рабочем состоянии. "
   ]
  },
  {
   "cell_type": "code",
   "execution_count": 14,
   "id": "b3c49083",
   "metadata": {},
   "outputs": [
    {
     "data": {
      "image/png": "[encoded data removed]",
      "text/plain": [
       "<Figure size 640x480 with 1 Axes>"
      ]
     },
     "metadata": {},
     "output_type": "display_data"
    }
   ],
   "source": [
    "# График функции надёжности системы\n",
    "x_values = np.arange(0, 1, 0.5e-2)\n",
    "y_values = np.zeros(len(x_values))\n",
    "for i in [0, 1, 2, 3, 4, 5, 6, 7, 8, 11, 12, 15]:\n",
    "    for j in range(len(x_values)):\n",
    "        y_values[j] += solutions[i].subs(t, x_values[j]).rhs\n",
    "plt.plot(x_values, y_values)\n",
    "plt.grid(True)\n",
    "plt.show()"
   ]
  },
  {
   "cell_type": "markdown",
   "id": "429b1ef3",
   "metadata": {},
   "source": [
    "# 7. Математическое ожидание времени безотказной работы\n",
    "\n",
    "Ссылка из википедии: https://ru.wikipedia.org/wiki/Вероятность_безотказной_работы\n",
    "\n",
    "Среднее время безотказной работы (средняя наработка на отказ) $T_0$ — для невосстанавливаемых (неремонтируемых) систем — это математическое ожидание времени работы системы до отказа.\n",
    "\n",
    "Графически полученное выражение для $T_0$ представлено на рисунке как площадь под графиком вероятности безотказной работы $R(T)$ от времени $T$. В начальный момент вероятность $R(T)$ равна единице. В конце времени работы системы вероятность $R(T)$ равна нулю."
   ]
  },
  {
   "cell_type": "code",
   "execution_count": 5,
   "id": "a60c51a1",
   "metadata": {},
   "outputs": [
    {
     "data": {
      "text/latex": [
       "$\\displaystyle 0.195711359865727$"
      ],
      "text/plain": [
       "0.195711359865727"
      ]
     },
     "execution_count": 5,
     "metadata": {},
     "output_type": "execute_result"
    }
   ],
   "source": [
    "Rt = sum(solutions[i].rhs for i in [0, 1, 2, 3, 4, 5, 6, 7, 8, 11, 12, 15])\n",
    "mo = integrate(Rt, (t, 0, oo)).evalf()\n",
    "# мат. ожидание\n",
    "mo"
   ]
  },
  {
   "cell_type": "markdown",
   "id": "fbd275b1",
   "metadata": {},
   "source": [
    "# 8. Имитационное моделирование системы в терминах непрерывных марковских цепей 100 раз"
   ]
  },
  {
   "cell_type": "markdown",
   "id": "e5c380ac",
   "metadata": {},
   "source": [
    "Функция экспоненциального распределения\n",
    "\n",
    "![gr](src/puas.png)\n",
    "\n",
    "Пусть время обслуживания имеет показательное распределение.\n",
    "\n",
    "https://scask.ru/a_book_tp.php?id=117"
   ]
  },
  {
   "cell_type": "code",
   "execution_count": 23,
   "id": "beb0d5ba",
   "metadata": {},
   "outputs": [],
   "source": [
    "# Имитационное моделирование системы в терминах непрерывных марковских цепей\n",
    "random.seed(0)\n",
    "times = []\n",
    "for i in range(100):\n",
    "    work_A = 4\n",
    "    work_B = 5\n",
    "    time_destroy_A = 0.0\n",
    "    time_destroy_B = 0.0\n",
    "    # Время, при котором система попадет в терминальное состояние\n",
    "    cur_time = 0.0\n",
    "    while work_A > 0 and work_B > 2:\n",
    "        if time_destroy_A == cur_time:\n",
    "            time_destroy_A += random.expovariate(2 if work_A > 1 else 1)\n",
    "        if time_destroy_B == cur_time:\n",
    "            time_destroy_B += random.expovariate(work_B * 4)\n",
    "        if time_destroy_A < time_destroy_B:\n",
    "            cur_time = time_destroy_A\n",
    "            work_A -= 1\n",
    "        else:\n",
    "            cur_time = time_destroy_B\n",
    "            work_B -= 1\n",
    "    times.append(cur_time)\n",
    "    \n",
    "# times - список моментов во времени, при которых каждый раз система попадала в терминальное состояние"
   ]
  },
  {
   "cell_type": "markdown",
   "id": "67d7b072",
   "metadata": {},
   "source": [
    "## Cреднее выборочное значение системы"
   ]
  },
  {
   "cell_type": "code",
   "execution_count": 20,
   "id": "74671463",
   "metadata": {},
   "outputs": [
    {
     "data": {
      "text/plain": [
       "0.21325658444505538"
      ]
     },
     "execution_count": 20,
     "metadata": {},
     "output_type": "execute_result"
    }
   ],
   "source": [
    "mean_time = np.mean(times)\n",
    "mean_time"
   ]
  },
  {
   "cell_type": "markdown",
   "id": "f31a454b",
   "metadata": {},
   "source": [
    "## Стандартное отклонение времени безотказной работы системы\n",
    "\n",
    "Среднеквадратическое отклонение:\n",
    "\n",
    "$ S = \\sqrt{\\frac{\\sum_{i=0}^{i = n}(x_i - x_m)^2}{n - 1}} $,\n",
    "\n",
    "где $x_m$ - среднее выборочное значение системы $n$ измерений,\n",
    "$x_i$ - значение результата в $i$-ом измерении.\n",
    "$n$ - количество испытаний"
   ]
  },
  {
   "cell_type": "code",
   "execution_count": 21,
   "id": "49ab3b9e",
   "metadata": {},
   "outputs": [
    {
     "data": {
      "text/plain": [
       "0.13802761716309028"
      ]
     },
     "execution_count": 21,
     "metadata": {},
     "output_type": "execute_result"
    }
   ],
   "source": [
    "std_dev = np.sqrt(sum((times[i] - mean_time)**2 for i in range(100)) / (100 - 1))\n",
    "std_dev"
   ]
  }
 ],
 "metadata": {
  "kernelspec": {
   "display_name": "Python 3 (ipykernel)",
   "language": "python",
   "name": "python3"
  },
  "language_info": {
   "codemirror_mode": {
    "name": "ipython",
    "version": 3
   },
   "file_extension": ".py",
   "mimetype": "text/x-python",
   "name": "python",
   "nbconvert_exporter": "python",
   "pygments_lexer": "ipython3",
   "version": "3.9.13"
  }
 },
 "nbformat": 4,
 "nbformat_minor": 5
}
