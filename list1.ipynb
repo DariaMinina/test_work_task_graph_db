{
 "cells": [
  {
   "cell_type": "markdown",
   "id": "eb97b0bd",
   "metadata": {},
   "source": [
    "# Тестовое задание по графовым базам данных от MindSet\n",
    "## DEADLINE: 07.03.23\n",
    "\n",
    "**Выполнила:** Дарья Минина\n",
    "\n",
    "**Telegram:** @daschok_770\n",
    "\n",
    "1. [x] Установить 2 графовые базы из списка DB-Engines Ranking\n",
    "2. [x] Предпочтительные - neo4j, nebula, arangodb\n",
    "3. [x] Предпочтительный язык запросов cypher\n",
    "4. [x] Создать ipynb ноутбук в котором:\n",
    "- [x]  Считать данные из источника Yandex\n",
    "- [x] Внести данные из таблицы в графовую БД\n",
    "7. [x] Построить графовое представление в БД, осуществить несколько запросов на языке запросов к графовой БД\n",
    "8. [x] Найти взаимосвязи визуально и с помощью алгоритмов (алгоритмы на ваше усмотрение)\n",
    "9. [x] Написать rest сервис на python к графовой БД в котором на вход поступает ФИО, на выходе graphml или json\n",
    "10. [ ] Результаты представить на гитхаб и в виде кода + небольшой презентации\n",
    "11. [ ] Прислать ссылку на решение и резюме в телеграм @frankshikhaliev\n",
    "12. [ ] Также надо будет заполнить форму\n",
    "13. [ ] Срок выполнения задания - около 10 дней, если вы не успеваете можете взять больше времени"
   ]
  },
  {
   "cell_type": "markdown",
   "id": "ea8ed9a6",
   "metadata": {},
   "source": [
    "## [Neo4j](https://neo4j.com)"
   ]
  },
  {
   "cell_type": "markdown",
   "id": "d47f2b29",
   "metadata": {},
   "source": [
    "**Работаем с [Neo4j Desktop](https://neo4j.com/download/)**"
   ]
  },
  {
   "cell_type": "markdown",
   "id": "ccc123b3",
   "metadata": {},
   "source": [
    "- Считываем данные из источника Yandex, предварительно скачав файл на локальный носитель."
   ]
  },
  {
   "cell_type": "markdown",
   "id": "722dd88c",
   "metadata": {},
   "source": [
    "Для начала выделим узлы под события:"
   ]
  },
  {
   "cell_type": "markdown",
   "id": "4c90200c",
   "metadata": {},
   "source": [
    "```\n",
    "LOAD CSV WITH HEADERS FROM 'file:///data_test_com.csv' AS row\n",
    "WITH row WHERE row.`id события` IS NOT NULL\n",
    "MERGE (c:Event {eventId: row.`id события`});\n",
    "```"
   ]
  },
  {
   "cell_type": "markdown",
   "id": "c4c52db7",
   "metadata": {},
   "source": [
    "Создадим ограничение на то, чтобы имя участника события было уникальным:"
   ]
  },
  {
   "cell_type": "markdown",
   "id": "13ddce8c",
   "metadata": {},
   "source": [
    "```\n",
    "CREATE CONSTRAINT participant_name FOR (p:Participant) REQUIRE p.name IS UNIQUE\n",
    "```"
   ]
  },
  {
   "cell_type": "markdown",
   "id": "ca9718bd",
   "metadata": {},
   "source": [
    "Каждый участник события БЫЛ на мероприятии, значит, наложим такую связь между узлом с лейблом `Event` и узлом с лейблом `Patricipant`\n",
    "Выделим узлы под участников события и создадим связь:"
   ]
  },
  {
   "cell_type": "markdown",
   "id": "4c9fc77c",
   "metadata": {},
   "source": [
    "```\n",
    "LOAD CSV WITH HEADERS FROM 'file:///data_test_com.csv' AS row\n",
    "MATCH (e:Event {eventId : row.`id события`})\n",
    "MERGE (p:Participant {name: row.`ФИО участника события 1`})\n",
    "CREATE (p) -[:HAS_BEEN]-> (e)\n",
    "```"
   ]
  },
  {
   "cell_type": "markdown",
   "id": "2cd758dd",
   "metadata": {},
   "source": [
    "```\n",
    "LOAD CSV WITH HEADERS FROM 'file:///data_test_com.csv' AS row\n",
    "MATCH (e:Event {eventId : row.`id события`})\n",
    "MERGE (p:Participant {name: row.`ФИО участника события 2`})\n",
    "CREATE (p) -[:HAS_BEEN]-> (e)\n",
    "```"
   ]
  },
  {
   "cell_type": "markdown",
   "id": "a1bbe585",
   "metadata": {},
   "source": [
    "Создадим связь между двумя людьми, которые ходили на одно событие:"
   ]
  },
  {
   "cell_type": "markdown",
   "id": "a5494142",
   "metadata": {},
   "source": [
    "```\n",
    "LOAD CSV WITH HEADERS FROM 'file:///data_test_com.csv' AS row\n",
    "MATCH (p1:Participant {name: row.`ФИО участника события 1`})\n",
    "MATCH (p2:Participant {name: row.`ФИО участника события 2`})\n",
    "CREATE (p1) -[:WITH]-> (p2)\n",
    "```"
   ]
  },
  {
   "cell_type": "markdown",
   "id": "4eeb6597",
   "metadata": {},
   "source": [
    "В БД только 15 событий, в которых участвовало 4 человека (в остальных 2). Выведем эти события и этих людей:"
   ]
  },
  {
   "cell_type": "markdown",
   "id": "31a5b7cd",
   "metadata": {},
   "source": [
    "```\n",
    "MATCH (n:Participant) - [r:HAS_BEEN] -> (e:Event)\n",
    "RETURN e, COLLECT(n) as p\n",
    "ORDER BY SIZE(p) DESC LIMIT 15\n",
    "```"
   ]
  },
  {
   "cell_type": "markdown",
   "id": "2d25aac5",
   "metadata": {},
   "source": [
    "![Граф](img/graph.png)"
   ]
  },
  {
   "cell_type": "markdown",
   "id": "e0249eb6",
   "metadata": {},
   "source": [
    "Найдем самого \"популярного\" человека из первого столбца и из второго столбца."
   ]
  },
  {
   "cell_type": "markdown",
   "id": "1807c61c",
   "metadata": {},
   "source": [
    "Из первого столбца:"
   ]
  },
  {
   "cell_type": "markdown",
   "id": "c2fc042f",
   "metadata": {},
   "source": [
    "```\n",
    "MATCH (p1:Participant) - [r:WITH] -> (p2:Participant)\n",
    "RETURN p1, COLLECT(p2) as p\n",
    "ORDER BY SIZE(p) DESC LIMIT 5\n",
    "```"
   ]
  },
  {
   "cell_type": "markdown",
   "id": "7fbdd0f9",
   "metadata": {},
   "source": [
    "![Граф](img/anna.png)"
   ]
  },
  {
   "cell_type": "markdown",
   "id": "568d36dc",
   "metadata": {},
   "source": [
    "ТОП-5:\n",
    "1. Ахромеева Алина Ивановна - 49 человек\n",
    "2. Башнина Антонина Глебовна - 14 человек\n",
    "3. Диомидов Игорь Ильдарович - 5 человек\n",
    "4. Зимнухова Карина Даниловна - 4 человека\n",
    "5. Шолохов Игорь Робертович - 2 человека"
   ]
  },
  {
   "cell_type": "markdown",
   "id": "f105c752",
   "metadata": {},
   "source": [
    "Из второго столбца:"
   ]
  },
  {
   "cell_type": "markdown",
   "id": "67e96905",
   "metadata": {},
   "source": [
    "```\n",
    "MATCH (p1:Participant) - [r:WITH] -> (p2:Participant)\n",
    "RETURN p2, COLLECT(p1) as p\n",
    "ORDER BY SIZE(p) DESC LIMIT 5\n",
    "```"
   ]
  },
  {
   "cell_type": "markdown",
   "id": "d0a5ab00",
   "metadata": {},
   "source": [
    "![Граф](img/daria.png)"
   ]
  },
  {
   "cell_type": "markdown",
   "id": "7c1f9300",
   "metadata": {},
   "source": [
    "ТОП-5:\n",
    "1. Медведева Дарья Алексеевна - 5 человек\n",
    "2. Шолохов Игорь Робертович - 2 человекa\n",
    "3. Двигубская Валентина Геннадьевна - 2 человекa\n",
    "4. Чемодуров Дамир Русланович - 1 человек\n",
    "5. Щербатенко Ольга Робертовна - 1 человек"
   ]
  },
  {
   "cell_type": "markdown",
   "id": "03b3361b",
   "metadata": {},
   "source": [
    "В этом блокноте мы создаем простой API, который rest сервис на python к графовой БД, в котором на вход поступает ФИО, на выходе graphml или json. В конечном итоге мы должны получить что-то вроде этого:"
   ]
  },
  {
   "cell_type": "markdown",
   "id": "f514015a",
   "metadata": {},
   "source": [
    "```\n",
    "$ curl -X POST http://127.0.0.1:8889/graph\n",
    "   -H 'Content-Type: application/json'\n",
    "   -d '{\"name\":\"Шолохов Игорь Робертович\"}'\n",
    "```"
   ]
  },
  {
   "cell_type": "markdown",
   "id": "9ad80b51",
   "metadata": {},
   "source": [
    "**json-ответ** отображает id-событий, на которых был посетитель:"
   ]
  },
  {
   "cell_type": "markdown",
   "id": "28f1bbf6",
   "metadata": {},
   "source": [
    "```\n",
    "{\n",
    "    \"headers\": {\n",
    "        \"Content-Type\": \"application/json\"\n",
    "    },\n",
    "    \"status\": 200,\n",
    "    \"body\": {\n",
    "        \"id событий\": [\n",
    "            \"750824\",\n",
    "            \"829652\",\n",
    "            \"875321\",\n",
    "            \"218462\"\n",
    "        ]\n",
    "    }\n",
    "}\n",
    "```"
   ]
  },
  {
   "cell_type": "markdown",
   "id": "b4f913cc",
   "metadata": {},
   "source": [
    "Сначала необходимо установить пакет `jupyter_kernel_gateway` (строка ниже для использования):"
   ]
  },
  {
   "cell_type": "code",
   "execution_count": 66,
   "id": "7c963967",
   "metadata": {},
   "outputs": [],
   "source": [
    "# !pip3 install jupyter_kernel_gateway"
   ]
  },
  {
   "cell_type": "markdown",
   "id": "5f1a9c99",
   "metadata": {},
   "source": [
    "Необходимо также установить [`Neo4j Python Driver 5.5`](https://neo4j.com/docs/api/python-driver/current/):"
   ]
  },
  {
   "cell_type": "code",
   "execution_count": 67,
   "id": "5166f1f8",
   "metadata": {},
   "outputs": [],
   "source": [
    "# python3.10 -m pip install neo4j"
   ]
  },
  {
   "cell_type": "code",
   "execution_count": 68,
   "id": "59673623",
   "metadata": {},
   "outputs": [],
   "source": [
    "import json\n",
    "import neo4j\n",
    "\n",
    "# REQUEST is the http request sent to the endpoints,\n",
    "# it's initialized to prevent error in running the notebook\n",
    "REQUEST = json.dumps({\n",
    "    \"body\" : {},\n",
    "    \"path\" : {},\n",
    "})"
   ]
  },
  {
   "cell_type": "code",
   "execution_count": 69,
   "id": "846cea41",
   "metadata": {},
   "outputs": [],
   "source": [
    "from neo4j import GraphDatabase\n",
    "\n",
    "\n",
    "URI = \"bolt://localhost:7687\"\n",
    "AUTH = (\"neo4j\", \"password\")\n",
    "\n",
    "def get_events(tx, name):\n",
    "    events = []\n",
    "    result = tx.run(\"MATCH (n:Participant) - [r:HAS_BEEN] -> (e:Event) \"\n",
    "                    \"WHERE n.name = $name \"\n",
    "                    \"RETURN e.eventId AS event\", name=name)\n",
    "    for record in result:\n",
    "        events.append(record[\"event\"])\n",
    "    return events"
   ]
  },
  {
   "cell_type": "code",
   "execution_count": 70,
   "id": "35d5e68a",
   "metadata": {},
   "outputs": [
    {
     "name": "stdout",
     "output_type": "stream",
     "text": [
      "{\"name\": null}\n"
     ]
    }
   ],
   "source": [
    "# POST /graph\n",
    "req = json.loads(REQUEST)\n",
    "body = json.dumps(req['body'])\n",
    "\n",
    "if \"name\" not in body:\n",
    "    print(json.dumps({\"name\": None}))\n",
    "else:\n",
    "    name = str(json.loads(body)['name'])\n",
    "    events = []\n",
    "    with GraphDatabase.driver(URI, auth=AUTH) as driver:\n",
    "        with driver.session() as session:\n",
    "            events = session.execute_read(get_events, name)\n",
    "    print(json.dumps({\n",
    "    \"headers\" : {\n",
    "    \"Content-Type\" : \"application/json\"\n",
    "    },\n",
    "    \"status\" : 200,\n",
    "    \"body\": {\"id событий\" : events},\n",
    "    }))"
   ]
  },
  {
   "cell_type": "markdown",
   "id": "bc19cc7e",
   "metadata": {},
   "source": [
    "**В терминале необходимо запустить:**\n",
    "\n",
    "```\n",
    "$ jupyter kernelgateway  --KernelGatewayApp.api='kernel_gateway.notebook_http'  --KernelGatewayApp.seed_uri='./list1.ipynb'\n",
    "```"
   ]
  },
  {
   "cell_type": "markdown",
   "id": "219b45dd",
   "metadata": {},
   "source": [
    "![json-ответ](img/json-response.png)"
   ]
  },
  {
   "cell_type": "markdown",
   "id": "4944f54b",
   "metadata": {},
   "source": [
    "## [Memgraph](https://memgraph.com)"
   ]
  },
  {
   "cell_type": "markdown",
   "id": "baa39e70",
   "metadata": {},
   "source": [
    "Используем docker-образ и [Memgraph Lab](https://memgraph.com/docs/memgraph-lab/)\n",
    "\n",
    "Проблема!\n",
    "\n",
    "![Проблема](img/problem.png)\n",
    "\n",
    "С восприятием кириллицы у `Memgraph` возникли какие-то непонятные проблемы, поэтому воспользуемся импортом всей графовой БД из __Neo4j__ в __Memgraph__ . Для этого используем плагин [APOC](https://neo4j.com/labs/apoc/4.3/installation/).\n",
    "\n",
    "В `neo4j.conf` предварительно необходимо добавить 2 строки:\n",
    "```\n",
    "apoc.import.file.enabled =true\n",
    "apoc.export.file.enabled =true\n",
    "```\n",
    "\n",
    "Импортируем все данные из БД в Neo4j в файл `events.csv`:\n",
    "```\n",
    "CALL apoc.export.csv.all(\"events.csv\", {})\n",
    "```\n",
    "_Прим._: эта команда вызывается там же, где запускались `Cypher`-запросы в Neo4j Desktop."
   ]
  },
  {
   "cell_type": "markdown",
   "id": "6ac8f293",
   "metadata": {},
   "source": [
    "Для того, чтобы работать с данными `.csv` необходимо скопировать их в созданный контейнер. Для этого воспользуемся командой:"
   ]
  },
  {
   "cell_type": "markdown",
   "id": "04da4f35",
   "metadata": {},
   "source": [
    "```\n",
    "docker cp ./events.csv <CONTAINER ID>:/events.csv\n",
    "```"
   ]
  },
  {
   "cell_type": "markdown",
   "id": "35e645a1",
   "metadata": {},
   "source": [
    "Приступаем к парсингу данных из `events.csv`:"
   ]
  },
  {
   "cell_type": "markdown",
   "id": "01ce53a8",
   "metadata": {},
   "source": [
    "```\n",
    "LOAD CSV FROM \"/events.csv\" WITH HEADER as row\n",
    "WITH row WHERE row._labels = \":Event\"\n",
    "CREATE (:Event {id: row._id, eventId: row.eventId});\n",
    "```\n",
    "```\n",
    "LOAD CSV FROM \"/events.csv\" WITH HEADER as row\n",
    "WITH row WHERE row._labels = \":Participant\"\n",
    "CREATE (:Participant {id: row._id, name: row.name});\n",
    "```\n",
    "```\n",
    "LOAD CSV FROM \"/events.csv\" WITH HEADER as row\n",
    "WITH row WHERE row._type = \"HAS_BEEN\"\n",
    "MATCH (s {id: row._start}), (e {id: row._end})\n",
    "CREATE (s) - [:HAS_BEEN] -> (e);\n",
    "```\n",
    "```\n",
    "LOAD CSV FROM \"/events.csv\" WITH HEADER as row\n",
    "WITH row WHERE row._type = \"WITH\"\n",
    "MATCH (s {id: row._start}), (e {id: row._end})\n",
    "CREATE (s) - [:WITH] -> (e);\n",
    "```"
   ]
  },
  {
   "cell_type": "markdown",
   "id": "f2fac859",
   "metadata": {},
   "source": [
    "Отображение событий, на которых присутствовало 4 человека:\n",
    "\n",
    "```\n",
    "MATCH (n:Participant) - [r:HAS_BEEN] -> (e:Event)\n",
    "RETURN e, COLLECT(n) as p, collect(r) as rr\n",
    "ORDER BY SIZE(p) DESC LIMIT 15;\n",
    "```"
   ]
  },
  {
   "cell_type": "markdown",
   "id": "375dc1cb",
   "metadata": {},
   "source": [
    "![Мемграф](img/memgraph.png)"
   ]
  },
  {
   "cell_type": "markdown",
   "id": "1d6076ca",
   "metadata": {},
   "source": [
    "![Мемграф2](img/memgraph_4.png)"
   ]
  },
  {
   "cell_type": "markdown",
   "id": "59a8de04",
   "metadata": {},
   "source": [
    "Так как данные те же, что и в Neo4j, соответственно, результаты работы дальнейших запросов остаются такими же.\n"
   ]
  },
  {
   "cell_type": "code",
   "execution_count": null,
   "id": "39c1589a",
   "metadata": {},
   "outputs": [],
   "source": []
  }
 ],
 "metadata": {
  "kernelspec": {
   "display_name": "Python 3 (ipykernel)",
   "language": "python",
   "name": "python3"
  },
  "language_info": {
   "codemirror_mode": {
    "name": "ipython",
    "version": 3
   },
   "file_extension": ".py",
   "mimetype": "text/x-python",
   "name": "python",
   "nbconvert_exporter": "python",
   "pygments_lexer": "ipython3",
   "version": "3.9.13"
  }
 },
 "nbformat": 4,
 "nbformat_minor": 5
}
